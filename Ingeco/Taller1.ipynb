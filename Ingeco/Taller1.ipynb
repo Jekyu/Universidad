{
 "cells": [
  {
   "cell_type": "markdown",
   "metadata": {},
   "source": [
    "# Punto 1\n",
    "\n",
    "-Calcular simple comercial (Aprox/360)"
   ]
  },
  {
   "cell_type": "code",
   "execution_count": 19,
   "metadata": {},
   "outputs": [
    {
     "name": "stdout",
     "output_type": "stream",
     "text": [
      "Dias: 92\n",
      "Meses: 4.0\n",
      "40800.0\n"
     ]
    }
   ],
   "source": [
    "i = 0.034 #EM\n",
    "p = 300000\n",
    "a = 77#18/03 \n",
    "b = 169\n",
    "\n",
    "#Calcular interes\n",
    "print(f\"Dias: {b-a}\")\n",
    "n = 360/90\n",
    "print(f\"Meses: {n}\",) \n",
    "S = p*i*(n)\n",
    "print(S)"
   ]
  },
  {
   "cell_type": "markdown",
   "metadata": {},
   "source": [
    "# Punto 2\n",
    "Una persona invierte 250.000 al 40% desde el 15Sep1998 hasta el 18Nov1998\n",
    "\n",
    "a) Monto racional\n",
    "b) Monto bancario"
   ]
  },
  {
   "cell_type": "code",
   "execution_count": 22,
   "metadata": {},
   "outputs": [
    {
     "name": "stdout",
     "output_type": "stream",
     "text": [
      "Racional: $267534.2465753425\n",
      "Bancario: $267777.7777777778\n"
     ]
    }
   ],
   "source": [
    "p = 250000\n",
    "i = 0.4\n",
    "a = 258\n",
    "b = 322\n",
    "\n",
    "\n",
    "#Racional (reales/año real)\n",
    "S = p*(1+i*(b-a)/365)\n",
    "print(f\"Racional: ${S}\")\n",
    "\n",
    "#Monto Bancario (reales/360)\n",
    "S = p*(1+i*(b-a)/360)\n",
    "print(f\"Bancario: ${S}\")\n"
   ]
  },
  {
   "cell_type": "markdown",
   "metadata": {},
   "source": [
    "# Punto 3\n",
    "¿Cuanto debe invertirse hoy 17OCT en un fondo que garantiza el 28% simple real para que el 20 de marzo del siguiente año pueda retirar la suma de $150.000?"
   ]
  },
  {
   "cell_type": "code",
   "execution_count": 26,
   "metadata": {},
   "outputs": [
    {
     "name": "stdout",
     "output_type": "stream",
     "text": [
      "Valor P simple real: $134243.8211063162\n"
     ]
    }
   ],
   "source": [
    "i = 0.28\n",
    "S = 150000\n",
    "a = 291\n",
    "b = 79\n",
    "n = (b+365-a)/365\n",
    "\n",
    "#Simple real (reales/año real)\n",
    "p = S/(1+i*n)\n",
    "print(f\"Valor P simple real: ${p}\")"
   ]
  },
  {
   "cell_type": "markdown",
   "metadata": {},
   "source": [
    "# Punto 4\n",
    "Hallar el valor presente de $500.000 en 3(1/2) años al 3% **mensual**"
   ]
  },
  {
   "cell_type": "code",
   "execution_count": 30,
   "metadata": {},
   "outputs": [
    {
     "name": "stdout",
     "output_type": "stream",
     "text": [
      "Meses: 42.0\n",
      "Valor P : $221238.93805309737\n"
     ]
    }
   ],
   "source": [
    "S = 500000\n",
    "i = 0.03\n",
    "n = 3.5*12 #Multiplicamos por 12 meses¿\n",
    "\n",
    "p = S/(1+i*n)\n",
    "print(f\"Meses: {n}\")\n",
    "print(f\"Valor P : ${p}\")"
   ]
  },
  {
   "cell_type": "markdown",
   "metadata": {},
   "source": [
    "# Punto 5\n",
    "Hace 6 años compré un lote de $900.000 y hoy se vendió en $6 Millones. Hallar la tasa de interes **comercial** que gane en este negocio"
   ]
  },
  {
   "cell_type": "code",
   "execution_count": 39,
   "metadata": {},
   "outputs": [
    {
     "name": "stdout",
     "output_type": "stream",
     "text": [
      "Tasa interes comercial: 94.44444444444444%\n"
     ]
    }
   ],
   "source": [
    "p = 900000\n",
    "S = 6000000\n",
    "\n",
    "#Interes comercial (Aprox/360)\n",
    "\n",
    "n = (6*360)/360\n",
    "\n",
    "\n",
    "i = (S-p)/(p*n)\n",
    "print(f\"Tasa interes comercial: {i*100}%\")"
   ]
  },
  {
   "cell_type": "markdown",
   "metadata": {},
   "source": [
    "# Punto 6 \n",
    "¿Qué tan **rentable** es un documento que hoy se puede comprar en $75.000 el cual devolverá al cavo de 3 años la suma de $330.000?"
   ]
  },
  {
   "cell_type": "code",
   "execution_count": 43,
   "metadata": {},
   "outputs": [
    {
     "name": "stdout",
     "output_type": "stream",
     "text": [
      "Rentabilidad: 113.33333333333333%\n"
     ]
    }
   ],
   "source": [
    "p = 75000\n",
    "S = 330000\n",
    "n = 3\n",
    "\n",
    "i = (S-p)/(p*n)\n",
    "print(f\"Rentabilidad: {i*100}%\")"
   ]
  },
  {
   "cell_type": "markdown",
   "metadata": {},
   "source": [
    "# Punto 7\n",
    "\n",
    "Se recibe un préstamo por $1 Millon al 42% **nominal anual** periodo vencido al día 8AGO1999 con vencimiento el 8MAR2000. Hallar el valor final del prestamo"
   ]
  },
  {
   "cell_type": "code",
   "execution_count": 71,
   "metadata": {},
   "outputs": [
    {
     "name": "stdout",
     "output_type": "stream",
     "text": [
      "Valor S exacto: $1244426.2295081967 , días: 213\n",
      "Valor S Comercial: $1245000.0 , días: 210\n",
      "Valor S Bancario: $1248500.0 , días: 213\n",
      "Valor S Base 365: $1243945.205479452 , días: 212\n"
     ]
    }
   ],
   "source": [
    "p = 1e+6\n",
    "j = 0.42 #Anual\n",
    "a = 220\n",
    "b = 67\n",
    "dReales = (b+365+1-a)\n",
    "dAprox = (2000-1999)*12*30 + (3-8)*30 + (8-8)\n",
    "\n",
    "#Interés exacto o racional (reales/año real)\n",
    "n = dReales/366\n",
    "S = p*(1+j*n)\n",
    "print(f\"Valor S exacto: ${S} , días: {dReales}\") \n",
    "\n",
    "#Comercial (aprox/360)\n",
    "n = dAprox/360\n",
    "S = p*(1+j*n)\n",
    "print(f\"Valor S Comercial: ${S} , días: {dAprox}\") \n",
    "\n",
    "#Bancario (reales/360)\n",
    "n = dReales/360\n",
    "S = p*(1+j*n)\n",
    "print(f\"Valor S Bancario: ${S} , días: {dReales}\") \n",
    "\n",
    "#Base 365\n",
    "n = (dReales-1)/365\n",
    "S = p*(1+j*n)\n",
    "print(f\"Valor S Base 365: ${S} , días: {dReales-1}\") \n"
   ]
  },
  {
   "cell_type": "markdown",
   "metadata": {},
   "source": [
    "# Punto 8 "
   ]
  },
  {
   "cell_type": "code",
   "execution_count": null,
   "metadata": {},
   "outputs": [],
   "source": []
  },
  {
   "cell_type": "code",
   "execution_count": null,
   "metadata": {},
   "outputs": [],
   "source": []
  },
  {
   "cell_type": "markdown",
   "metadata": {},
   "source": [
    "# Descuento 16 Descuentos en cadena\n",
    "Un almacen ofrece los siguientes descuentos, sobre una mercancia cuyo costo inicial es de $200.000\n",
    "- 30% Venta por mayor\n",
    "- 10% por pago al contado\n",
    "- 5% Enviar mercancia sin empaque\n",
    "\n",
    "a) Cual es el valor final de la factura?\n",
    "b) Decuento promedio que se otorgo"
   ]
  },
  {
   "cell_type": "code",
   "execution_count": 98,
   "metadata": {},
   "outputs": [
    {
     "name": "stdout",
     "output_type": "stream",
     "text": [
      "Valor final factura: $119700.0\n",
      "Descuento promedio: 40.150000000000006%\n"
     ]
    }
   ],
   "source": [
    "desC = [0.3, 0.1, 0.05]\n",
    "p = 2e+5\n",
    "\n",
    "\n",
    "for d in desC:\n",
    "    p = p*(1-d)\n",
    "\n",
    "prom = 1\n",
    "for d in desC:\n",
    "    prom = prom*(1-d)\n",
    "\n",
    "prom = 1 - prom\n",
    "print(f\"Valor final factura: ${p}\")\n",
    "print(f\"Descuento promedio: {prom*100}%\")"
   ]
  },
  {
   "cell_type": "markdown",
   "metadata": {},
   "source": [
    "# Punto 17 Descuento esperado\n",
    "Una fábrica ofrece un **descuento** del 25% en ventas al por mayor, el 5% por **pronto pago** y el 4% por **embalaje** ¿Cúal debe ser el descuento adicional que puede ofrecerse a los empleados de la misma fábrica para que el descuento total no sea superior al 35%?\n"
   ]
  },
  {
   "cell_type": "code",
   "execution_count": 90,
   "metadata": {},
   "outputs": [
    {
     "name": "stdout",
     "output_type": "stream",
     "text": [
      "Descuento esperado: 4.9707602339181145%\n"
     ]
    }
   ],
   "source": [
    "desC = [0.25, 0.05, 0.04]\n",
    "dT = 0.35\n",
    "dG = 1 \n",
    "for d in desC:\n",
    "    dG = dG*(1-d)\n",
    "\n",
    "dA = 1+((dT-1)/(dG))\n",
    "print(f\"Descuento esperado: {dA*100}%\")"
   ]
  },
  {
   "cell_type": "markdown",
   "metadata": {},
   "source": [
    "# Punto 18 Pagos parciales\n",
    "Se compra un articulo por $870.000  el día 25 de noviembre y se acuerda que será cancelado mediante el sistema de pagos parciales, con un plazo máximo de 3 meses. Si el **día de la compra** sa una cuota inicial del 30%, el **12 de diciembre** se hace un abono parcial de $200.000 y el **20 de enero** del siguiente año se hace otro abono paracial de $150.000 ¿Cúal debe ser el valor del pago al final que hecho al vencimiento cancerlará la deuda? \n",
    "\n",
    "Suponga un **interes bancario** del 34%\n",
    "\n"
   ]
  },
  {
   "cell_type": "code",
   "execution_count": 81,
   "metadata": {},
   "outputs": [
    {
     "name": "stdout",
     "output_type": "stream",
     "text": [
      "Deuda día de la compra: 609000.0\n",
      "Saldo al 13DIC: $618777.8333333333\n",
      "Luego de $200k de abono: 418777.83333333326\n",
      "Saldo al 20ENE: $434202.81686111103\n",
      "Luego de $200k de abono: 284202.81686111103\n",
      "Saldo al 25FEB: $293865.7126343888\n"
     ]
    }
   ],
   "source": [
    "i = 0.34\n",
    "p0 = 87e+4\n",
    "#Bancario (reales/360)\n",
    "\n",
    "#Día de la compra\n",
    "p1 = p0*(1-0.3)\n",
    "print(f\"Deuda día de la compra: {p1}\")\n",
    "\n",
    "# 12 de diciembre\n",
    "a = 329 #25NOV\n",
    "b = 346\n",
    "n = (b-a)/360\n",
    "\n",
    "S = p1*(1+i*n)\n",
    "print(f\"Saldo al 13DIC: ${S}\")\n",
    "p2 = S - 200000\n",
    "print(f\"Luego de $200k de abono: {p2}\")\n",
    "\n",
    "#20 enero\n",
    "a = 346\n",
    "b = 20\n",
    "n = (b+365-a)/360\n",
    "\n",
    "S = p2*(1+i*n)\n",
    "print(f\"Saldo al 20ENE: ${S}\")\n",
    "p3 = S - 150000\n",
    "print(f\"Luego de $200k de abono: {p3}\")\n",
    "\n",
    "#25 Febreo\n",
    "a=20\n",
    "b=56\n",
    "n = (b-a)/360\n",
    "S = p3*(1+i*n)\n",
    "print(f\"Saldo al 25FEB: ${S}\")\n"
   ]
  }
 ],
 "metadata": {
  "kernelspec": {
   "display_name": "Ciencias",
   "language": "python",
   "name": "python3"
  },
  "language_info": {
   "codemirror_mode": {
    "name": "ipython",
    "version": 3
   },
   "file_extension": ".py",
   "mimetype": "text/x-python",
   "name": "python",
   "nbconvert_exporter": "python",
   "pygments_lexer": "ipython3",
   "version": "3.11.9"
  }
 },
 "nbformat": 4,
 "nbformat_minor": 2
}
